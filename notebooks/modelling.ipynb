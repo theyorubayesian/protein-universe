{
 "cells": [
  {
   "cell_type": "code",
   "execution_count": 1,
   "metadata": {},
   "outputs": [],
   "source": [
    "import sys\n",
    "\n",
    "sys.path.insert(0, \"../\")"
   ]
  },
  {
   "cell_type": "code",
   "execution_count": 2,
   "metadata": {},
   "outputs": [],
   "source": [
    "import pandas as pd\n",
    "import torch\n",
    "import torch.nn.functional as F\n",
    "from torch import nn\n",
    "from torch.utils.data import DataLoader"
   ]
  },
  {
   "cell_type": "code",
   "execution_count": 3,
   "metadata": {},
   "outputs": [],
   "source": [
    "from universe.dataset import PfamDataset\n",
    "from universe.models import BiLSTM"
   ]
  },
  {
   "cell_type": "markdown",
   "metadata": {},
   "source": [
    "## Dataset"
   ]
  },
  {
   "cell_type": "code",
   "execution_count": 4,
   "metadata": {},
   "outputs": [],
   "source": [
    "NUM_CLASSES = 500\n",
    "BATCH_SIZE = 512"
   ]
  },
  {
   "cell_type": "code",
   "execution_count": 5,
   "metadata": {},
   "outputs": [],
   "source": [
    "train = pd.read_csv(f\"../data/processed/{NUM_CLASSES}/train.csv\")\n",
    "dev = pd.read_csv(f\"../data/processed/{NUM_CLASSES}/dev.csv\")\n",
    "test = pd.read_csv(f\"../data/processed/{NUM_CLASSES}/test.csv\")"
   ]
  },
  {
   "cell_type": "code",
   "execution_count": 6,
   "metadata": {},
   "outputs": [
    {
     "name": "stderr",
     "output_type": "stream",
     "text": [
      "11/14/2021 16:08:59 - INFO - universe.dataset - PID: 18547 -  Loading features from cached file: ../data/cache/cached_dataset_500_train\n"
     ]
    }
   ],
   "source": [
    "train_dataset = PfamDataset(train, overwrite_cache=False, num_classes=NUM_CLASSES, cache_dir=\"../data/cache\", split_name=\"train\")"
   ]
  },
  {
   "cell_type": "code",
   "execution_count": 7,
   "metadata": {},
   "outputs": [],
   "source": [
    "train_dataloader = DataLoader(train_dataset, batch_size=256, shuffle=True, collate_fn=PfamDataset.collate, drop_last=True)"
   ]
  },
  {
   "cell_type": "markdown",
   "metadata": {},
   "source": [
    "## Model"
   ]
  },
  {
   "cell_type": "code",
   "execution_count": 8,
   "metadata": {},
   "outputs": [],
   "source": [
    "VOCAB_SIZE = 22\n",
    "EMBEDDING_SIZE = 300\n",
    "HIDDEN_SIZE = 128\n",
    "N_LAYERS = 2"
   ]
  },
  {
   "cell_type": "code",
   "execution_count": 9,
   "metadata": {},
   "outputs": [],
   "source": [
    "model = BiLSTM(HIDDEN_SIZE, N_LAYERS, EMBEDDING_SIZE, NUM_CLASSES, VOCAB_SIZE)"
   ]
  },
  {
   "cell_type": "markdown",
   "metadata": {},
   "source": [
    "## Training"
   ]
  },
  {
   "cell_type": "code",
   "execution_count": 10,
   "metadata": {},
   "outputs": [],
   "source": [
    "EPOCHS = 50\n",
    "LR = 0.01"
   ]
  },
  {
   "cell_type": "code",
   "execution_count": 11,
   "metadata": {},
   "outputs": [],
   "source": [
    "optimizer = torch.optim.Adam(model.parameters(), lr=LR)"
   ]
  },
  {
   "cell_type": "code",
   "execution_count": 12,
   "metadata": {},
   "outputs": [],
   "source": [
    "device = torch.device(\"cuda:0\")"
   ]
  },
  {
   "cell_type": "code",
   "execution_count": 13,
   "metadata": {},
   "outputs": [
    {
     "data": {
      "text/plain": [
       "BiLSTM(\n",
       "  (embedding): Embedding(22, 300, padding_idx=21)\n",
       "  (lstm): LSTM(300, 128, num_layers=2, batch_first=True, dropout=0.2, bidirectional=True)\n",
       "  (fc): Linear(in_features=256, out_features=500, bias=True)\n",
       ")"
      ]
     },
     "execution_count": 13,
     "metadata": {},
     "output_type": "execute_result"
    }
   ],
   "source": [
    "model.to(device)"
   ]
  },
  {
   "cell_type": "code",
   "execution_count": 14,
   "metadata": {},
   "outputs": [
    {
     "name": "stdout",
     "output_type": "stream",
     "text": [
      "Starting epoch: 1/50\n",
      "Epoch: 1 Step: 1 Last loss: 6.214513301849365\n",
      "Epoch: 1 Step: 1001 Last loss: 5.37968111038208\n",
      "Epoch: 1 Step: 1151 Epoch loss: 5.3556341209378475\n",
      "\n",
      "-----------------\n",
      "\n",
      "Starting epoch: 2/50\n",
      "Epoch: 2 Step: 1152 Last loss: 5.393555641174316\n",
      "Epoch: 2 Step: 2152 Last loss: 5.484552383422852\n",
      "Epoch: 2 Step: 2302 Epoch loss: 5.434138525474807\n",
      "\n",
      "-----------------\n",
      "\n",
      "Starting epoch: 3/50\n",
      "Epoch: 3 Step: 2303 Last loss: 5.427124500274658\n",
      "Epoch: 3 Step: 3303 Last loss: 5.393227577209473\n",
      "Epoch: 3 Step: 3453 Epoch loss: 5.401614520158279\n",
      "\n",
      "-----------------\n",
      "\n",
      "Starting epoch: 4/50\n",
      "Epoch: 4 Step: 3454 Last loss: 5.389823913574219\n",
      "Epoch: 4 Step: 4454 Last loss: 5.3792524337768555\n",
      "Epoch: 4 Step: 4604 Epoch loss: 5.3906560689858205\n",
      "\n",
      "-----------------\n",
      "\n",
      "Starting epoch: 5/50\n",
      "Epoch: 5 Step: 4605 Last loss: 5.381128787994385\n",
      "Epoch: 5 Step: 5605 Last loss: 5.464656829833984\n",
      "Epoch: 5 Step: 5755 Epoch loss: 5.401040965427429\n",
      "\n",
      "-----------------\n",
      "\n",
      "Starting epoch: 6/50\n",
      "Epoch: 6 Step: 5756 Last loss: 5.445616245269775\n",
      "Epoch: 6 Step: 6756 Last loss: 5.388634204864502\n",
      "Epoch: 6 Step: 6906 Epoch loss: 5.422097229729726\n",
      "\n",
      "-----------------\n",
      "\n",
      "Starting epoch: 7/50\n",
      "Epoch: 7 Step: 6907 Last loss: 5.3733134269714355\n"
     ]
    },
    {
     "ename": "KeyboardInterrupt",
     "evalue": "",
     "output_type": "error",
     "traceback": [
      "\u001b[0;31m---------------------------------------------------------------------------\u001b[0m",
      "\u001b[0;31mKeyboardInterrupt\u001b[0m                         Traceback (most recent call last)",
      "\u001b[0;32m<ipython-input-14-528823088a56>\u001b[0m in \u001b[0;36m<module>\u001b[0;34m\u001b[0m\n\u001b[1;32m     18\u001b[0m         \u001b[0mepoch_step\u001b[0m \u001b[0;34m+=\u001b[0m \u001b[0;36m1\u001b[0m\u001b[0;34m\u001b[0m\u001b[0;34m\u001b[0m\u001b[0m\n\u001b[1;32m     19\u001b[0m \u001b[0;34m\u001b[0m\u001b[0m\n\u001b[0;32m---> 20\u001b[0;31m         \u001b[0mloss\u001b[0m\u001b[0;34m.\u001b[0m\u001b[0mbackward\u001b[0m\u001b[0;34m(\u001b[0m\u001b[0;34m)\u001b[0m\u001b[0;34m\u001b[0m\u001b[0;34m\u001b[0m\u001b[0m\n\u001b[0m\u001b[1;32m     21\u001b[0m \u001b[0;34m\u001b[0m\u001b[0m\n\u001b[1;32m     22\u001b[0m         \u001b[0;31m# nn.utils.clip_grad_norm_(\u001b[0m\u001b[0;34m\u001b[0m\u001b[0;34m\u001b[0m\u001b[0;34m\u001b[0m\u001b[0m\n",
      "\u001b[0;32m~/miniconda3/envs/protein/lib/python3.8/site-packages/torch/_tensor.py\u001b[0m in \u001b[0;36mbackward\u001b[0;34m(self, gradient, retain_graph, create_graph, inputs)\u001b[0m\n\u001b[1;32m    305\u001b[0m                 \u001b[0mcreate_graph\u001b[0m\u001b[0;34m=\u001b[0m\u001b[0mcreate_graph\u001b[0m\u001b[0;34m,\u001b[0m\u001b[0;34m\u001b[0m\u001b[0;34m\u001b[0m\u001b[0m\n\u001b[1;32m    306\u001b[0m                 inputs=inputs)\n\u001b[0;32m--> 307\u001b[0;31m         \u001b[0mtorch\u001b[0m\u001b[0;34m.\u001b[0m\u001b[0mautograd\u001b[0m\u001b[0;34m.\u001b[0m\u001b[0mbackward\u001b[0m\u001b[0;34m(\u001b[0m\u001b[0mself\u001b[0m\u001b[0;34m,\u001b[0m \u001b[0mgradient\u001b[0m\u001b[0;34m,\u001b[0m \u001b[0mretain_graph\u001b[0m\u001b[0;34m,\u001b[0m \u001b[0mcreate_graph\u001b[0m\u001b[0;34m,\u001b[0m \u001b[0minputs\u001b[0m\u001b[0;34m=\u001b[0m\u001b[0minputs\u001b[0m\u001b[0;34m)\u001b[0m\u001b[0;34m\u001b[0m\u001b[0;34m\u001b[0m\u001b[0m\n\u001b[0m\u001b[1;32m    308\u001b[0m \u001b[0;34m\u001b[0m\u001b[0m\n\u001b[1;32m    309\u001b[0m     \u001b[0;32mdef\u001b[0m \u001b[0mregister_hook\u001b[0m\u001b[0;34m(\u001b[0m\u001b[0mself\u001b[0m\u001b[0;34m,\u001b[0m \u001b[0mhook\u001b[0m\u001b[0;34m)\u001b[0m\u001b[0;34m:\u001b[0m\u001b[0;34m\u001b[0m\u001b[0;34m\u001b[0m\u001b[0m\n",
      "\u001b[0;32m~/miniconda3/envs/protein/lib/python3.8/site-packages/torch/autograd/__init__.py\u001b[0m in \u001b[0;36mbackward\u001b[0;34m(tensors, grad_tensors, retain_graph, create_graph, grad_variables, inputs)\u001b[0m\n\u001b[1;32m    152\u001b[0m         \u001b[0mretain_graph\u001b[0m \u001b[0;34m=\u001b[0m \u001b[0mcreate_graph\u001b[0m\u001b[0;34m\u001b[0m\u001b[0;34m\u001b[0m\u001b[0m\n\u001b[1;32m    153\u001b[0m \u001b[0;34m\u001b[0m\u001b[0m\n\u001b[0;32m--> 154\u001b[0;31m     Variable._execution_engine.run_backward(\n\u001b[0m\u001b[1;32m    155\u001b[0m         \u001b[0mtensors\u001b[0m\u001b[0;34m,\u001b[0m \u001b[0mgrad_tensors_\u001b[0m\u001b[0;34m,\u001b[0m \u001b[0mretain_graph\u001b[0m\u001b[0;34m,\u001b[0m \u001b[0mcreate_graph\u001b[0m\u001b[0;34m,\u001b[0m \u001b[0minputs\u001b[0m\u001b[0;34m,\u001b[0m\u001b[0;34m\u001b[0m\u001b[0;34m\u001b[0m\u001b[0m\n\u001b[1;32m    156\u001b[0m         allow_unreachable=True, accumulate_grad=True)  # allow_unreachable flag\n",
      "\u001b[0;31mKeyboardInterrupt\u001b[0m: "
     ]
    }
   ],
   "source": [
    "global_step = 0\n",
    "\n",
    "for epoch in range(EPOCHS):\n",
    "    print(f\"Starting epoch: {epoch+1}/{EPOCHS}\")\n",
    "    epoch_step = 0\n",
    "    n_sequences_epoch = 0\n",
    "    total_loss_epoch = 0\n",
    "\n",
    "    for i, batch in enumerate(train_dataloader):\n",
    "        seq, labels = tuple(t.to(device) for t in batch[:2])\n",
    "        lengths = batch[-1]\n",
    "\n",
    "        outputs = model(seq, lengths)\n",
    "\n",
    "        loss = F.cross_entropy(outputs, labels)\n",
    "        total_loss_epoch += loss.item()\n",
    "        global_step += 1\n",
    "        epoch_step += 1\n",
    "\n",
    "        loss.backward()\n",
    "\n",
    "        # nn.utils.clip_grad_norm_(\n",
    "        #    model.parameters(), 1.0\n",
    "        # )\n",
    "\n",
    "        optimizer.step()\n",
    "\n",
    "        optimizer.zero_grad()\n",
    "\n",
    "        n_sequences_epoch += seq.size(0)\n",
    "\n",
    "        if i % 1000 == 0:\n",
    "            print(f\"Epoch: {epoch+1} Step: {global_step} Last loss: {loss.item()}\")\n",
    "\n",
    "    print(f\"Epoch: {epoch+1} Step: {global_step} Epoch loss: {total_loss_epoch/epoch_step}\")\n",
    "    print(\"\\n-----------------\\n\")\n",
    "        "
   ]
  }
 ],
 "metadata": {
  "interpreter": {
   "hash": "2d0a2128d1c39f3b867a8b3a7f053df431bff3070bf96e1e8b0a51f00fce5a8d"
  },
  "kernelspec": {
   "display_name": "Python 3.8.12 64-bit ('protein': conda)",
   "language": "python",
   "name": "python3"
  },
  "language_info": {
   "codemirror_mode": {
    "name": "ipython",
    "version": 3
   },
   "file_extension": ".py",
   "mimetype": "text/x-python",
   "name": "python",
   "nbconvert_exporter": "python",
   "pygments_lexer": "ipython3",
   "version": "3.8.12"
  },
  "orig_nbformat": 4
 },
 "nbformat": 4,
 "nbformat_minor": 2
}
