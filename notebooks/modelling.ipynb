{
 "cells": [
  {
   "cell_type": "code",
   "execution_count": 1,
   "metadata": {},
   "outputs": [],
   "source": [
    "import sys\n",
    "\n",
    "sys.path.insert(0, \"../\")"
   ]
  },
  {
   "cell_type": "code",
   "execution_count": 2,
   "metadata": {},
   "outputs": [],
   "source": [
    "import pandas as pd\n",
    "import torch\n",
    "import torch.nn.functional as F\n",
    "from torch import nn\n",
    "from torch.utils.data import DataLoader"
   ]
  },
  {
   "cell_type": "code",
   "execution_count": 3,
   "metadata": {},
   "outputs": [],
   "source": [
    "from universe.dataset import PfamDataset\n",
    "from universe.models import BiLSTM"
   ]
  },
  {
   "cell_type": "markdown",
   "metadata": {},
   "source": [
    "## Dataset"
   ]
  },
  {
   "cell_type": "code",
   "execution_count": 4,
   "metadata": {},
   "outputs": [],
   "source": [
    "train = pd.read_csv(\"../data/processed/train.csv\")\n",
    "dev = pd.read_csv(\"../data/processed/dev.csv\")\n",
    "test = pd.read_csv(\"../data/processed/test.csv\")"
   ]
  },
  {
   "cell_type": "code",
   "execution_count": 5,
   "metadata": {},
   "outputs": [
    {
     "name": "stderr",
     "output_type": "stream",
     "text": [
      "11/14/2021 01:18:49 - INFO - universe.dataset - PID: 11004 -  Loading features from cached file: ../data/cache/cached_dataset_train\n"
     ]
    }
   ],
   "source": [
    "train_dataset = PfamDataset(train, overwrite_cache=False, cache_dir=\"../data/cache\", split_name=\"train\")"
   ]
  },
  {
   "cell_type": "code",
   "execution_count": 23,
   "metadata": {},
   "outputs": [],
   "source": [
    "train_dataloader = DataLoader(train_dataset, batch_size=256, shuffle=True, collate_fn=PfamDataset.collate, drop_last=True)"
   ]
  },
  {
   "cell_type": "markdown",
   "metadata": {},
   "source": [
    "## Model"
   ]
  },
  {
   "cell_type": "code",
   "execution_count": 7,
   "metadata": {},
   "outputs": [],
   "source": [
    "vocab_size = 22\n",
    "hidden_size = 128"
   ]
  },
  {
   "cell_type": "code",
   "execution_count": 27,
   "metadata": {},
   "outputs": [],
   "source": [
    "model = BiLSTM(hidden_size, 4, 128, 5000, 22)"
   ]
  },
  {
   "cell_type": "markdown",
   "metadata": {},
   "source": [
    "## Training"
   ]
  },
  {
   "cell_type": "code",
   "execution_count": 9,
   "metadata": {},
   "outputs": [],
   "source": [
    "EPOCHS = 50"
   ]
  },
  {
   "cell_type": "code",
   "execution_count": 9,
   "metadata": {},
   "outputs": [],
   "source": [
    "for batch in train_dataloader:\n",
    "    seq, labels = batch\n",
    "    break"
   ]
  },
  {
   "cell_type": "code",
   "execution_count": 10,
   "metadata": {},
   "outputs": [],
   "source": [
    "out = model(seq)"
   ]
  },
  {
   "cell_type": "code",
   "execution_count": 11,
   "metadata": {},
   "outputs": [
    {
     "data": {
      "text/plain": [
       "tensor(8.5076, grad_fn=<NllLossBackward0>)"
      ]
     },
     "execution_count": 11,
     "metadata": {},
     "output_type": "execute_result"
    }
   ],
   "source": [
    "F.cross_entropy(out, labels)"
   ]
  },
  {
   "cell_type": "code",
   "execution_count": 28,
   "metadata": {},
   "outputs": [],
   "source": [
    "optimizer = torch.optim.Adam(model.parameters(), lr=0.01)"
   ]
  },
  {
   "cell_type": "code",
   "execution_count": 14,
   "metadata": {},
   "outputs": [],
   "source": [
    "device = torch.device(\"cuda:0\")"
   ]
  },
  {
   "cell_type": "code",
   "execution_count": 15,
   "metadata": {},
   "outputs": [
    {
     "data": {
      "text/plain": [
       "device(type='cuda', index=0)"
      ]
     },
     "execution_count": 15,
     "metadata": {},
     "output_type": "execute_result"
    }
   ],
   "source": [
    "device"
   ]
  },
  {
   "cell_type": "code",
   "execution_count": 29,
   "metadata": {},
   "outputs": [
    {
     "data": {
      "text/plain": [
       "BiLSTM(\n",
       "  (embedding): Embedding(22, 128, padding_idx=21)\n",
       "  (lstm): LSTM(128, 128, num_layers=4, batch_first=True, dropout=0.2, bidirectional=True)\n",
       "  (fc): Linear(in_features=256, out_features=5000, bias=True)\n",
       ")"
      ]
     },
     "execution_count": 29,
     "metadata": {},
     "output_type": "execute_result"
    }
   ],
   "source": [
    "model.to(device)"
   ]
  },
  {
   "cell_type": "code",
   "execution_count": null,
   "metadata": {},
   "outputs": [],
   "source": []
  },
  {
   "cell_type": "code",
   "execution_count": 30,
   "metadata": {},
   "outputs": [
    {
     "name": "stdout",
     "output_type": "stream",
     "text": [
      "Starting epoch: 1/50\n",
      "Epoch: 0 Last loss: 8.516499519348145\n",
      "Epoch: 0 Last loss: 8.051719665527344\n",
      "Epoch: 0 Last loss: 8.064003944396973\n",
      "Epoch: 0 Last loss: 8.186814308166504\n",
      "Epoch: 0 Epoch loss: 8.10400343592353\n",
      "Starting epoch: 2/50\n",
      "Epoch: 1 Last loss: 8.02542781829834\n",
      "Epoch: 1 Last loss: 7.558437347412109\n",
      "Epoch: 1 Last loss: 7.2548394203186035\n",
      "Epoch: 1 Last loss: 8.165397644042969\n",
      "Epoch: 1 Epoch loss: 7.618294047969638\n",
      "Starting epoch: 3/50\n",
      "Epoch: 2 Last loss: 7.270704746246338\n",
      "Epoch: 2 Last loss: 7.494513034820557\n",
      "Epoch: 2 Last loss: 8.000884056091309\n",
      "Epoch: 2 Last loss: 7.1603851318359375\n",
      "Epoch: 2 Epoch loss: 7.423967940052244\n",
      "Starting epoch: 4/50\n",
      "Epoch: 3 Last loss: 7.131890296936035\n",
      "Epoch: 3 Last loss: 8.818958282470703\n",
      "Epoch: 3 Last loss: 9.139876365661621\n",
      "Epoch: 3 Last loss: 8.263298034667969\n",
      "Epoch: 3 Epoch loss: 7.757469066564391\n",
      "Starting epoch: 5/50\n",
      "Epoch: 4 Last loss: 8.22375202178955\n",
      "Epoch: 4 Last loss: 7.172489166259766\n",
      "Epoch: 4 Last loss: 7.0342254638671875\n",
      "Epoch: 4 Last loss: 6.850347995758057\n",
      "Epoch: 4 Epoch loss: 7.191373511710978\n",
      "Starting epoch: 6/50\n",
      "Epoch: 5 Last loss: 6.64686393737793\n",
      "Epoch: 5 Last loss: 6.893884181976318\n",
      "Epoch: 5 Last loss: 6.886983394622803\n",
      "Epoch: 5 Last loss: 6.5510478019714355\n",
      "Epoch: 5 Epoch loss: 6.744810851259308\n",
      "Starting epoch: 7/50\n",
      "Epoch: 6 Last loss: 6.477859973907471\n",
      "Epoch: 6 Last loss: 6.594076633453369\n",
      "Epoch: 6 Last loss: 6.40744686126709\n",
      "Epoch: 6 Last loss: 6.519034385681152\n",
      "Epoch: 6 Epoch loss: 6.536951804734295\n",
      "Starting epoch: 8/50\n",
      "Epoch: 7 Last loss: 6.40028190612793\n",
      "Epoch: 7 Last loss: 6.878647327423096\n",
      "Epoch: 7 Last loss: 6.479112148284912\n",
      "Epoch: 7 Last loss: 6.336977958679199\n",
      "Epoch: 7 Epoch loss: 6.339817480362994\n",
      "Starting epoch: 9/50\n",
      "Epoch: 8 Last loss: 6.162120819091797\n",
      "Epoch: 8 Last loss: 6.165977954864502\n",
      "Epoch: 8 Last loss: 6.105752468109131\n",
      "Epoch: 8 Last loss: 6.194921970367432\n",
      "Epoch: 8 Epoch loss: 6.132103386672607\n",
      "Starting epoch: 10/50\n",
      "Epoch: 9 Last loss: 6.008430480957031\n",
      "Epoch: 9 Last loss: 6.0028533935546875\n",
      "Epoch: 9 Last loss: 5.841774940490723\n",
      "Epoch: 9 Last loss: 5.830170631408691\n",
      "Epoch: 9 Epoch loss: 5.984631388503743\n",
      "Starting epoch: 11/50\n",
      "Epoch: 10 Last loss: 5.829723834991455\n",
      "Epoch: 10 Last loss: 7.105725288391113\n",
      "Epoch: 10 Last loss: 6.14834451675415\n",
      "Epoch: 10 Last loss: 6.104008674621582\n",
      "Epoch: 10 Epoch loss: 6.695829201820308\n",
      "Starting epoch: 12/50\n",
      "Epoch: 11 Last loss: 5.872860431671143\n",
      "Epoch: 11 Last loss: 6.073947429656982\n",
      "Epoch: 11 Last loss: 6.000482559204102\n",
      "Epoch: 11 Last loss: 6.409012794494629\n",
      "Epoch: 11 Epoch loss: 6.2129097669900935\n",
      "Starting epoch: 13/50\n",
      "Epoch: 12 Last loss: 6.5296549797058105\n",
      "Epoch: 12 Last loss: 6.486819744110107\n",
      "Epoch: 12 Last loss: 6.187221050262451\n",
      "Epoch: 12 Last loss: 5.909595966339111\n",
      "Epoch: 12 Epoch loss: 6.134028102849846\n",
      "Starting epoch: 14/50\n",
      "Epoch: 13 Last loss: 5.862794876098633\n",
      "Epoch: 13 Last loss: 6.385842323303223\n",
      "Epoch: 13 Last loss: 5.88932991027832\n"
     ]
    },
    {
     "ename": "KeyboardInterrupt",
     "evalue": "",
     "output_type": "error",
     "traceback": [
      "\u001b[0;31m---------------------------------------------------------------------------\u001b[0m",
      "\u001b[0;31mKeyboardInterrupt\u001b[0m                         Traceback (most recent call last)",
      "\u001b[0;32m<ipython-input-30-151be8bb9b37>\u001b[0m in \u001b[0;36m<module>\u001b[0;34m\u001b[0m\n\u001b[1;32m     17\u001b[0m         \u001b[0mepoch_step\u001b[0m \u001b[0;34m+=\u001b[0m \u001b[0;36m1\u001b[0m\u001b[0;34m\u001b[0m\u001b[0;34m\u001b[0m\u001b[0m\n\u001b[1;32m     18\u001b[0m \u001b[0;34m\u001b[0m\u001b[0m\n\u001b[0;32m---> 19\u001b[0;31m         \u001b[0mloss\u001b[0m\u001b[0;34m.\u001b[0m\u001b[0mbackward\u001b[0m\u001b[0;34m(\u001b[0m\u001b[0;34m)\u001b[0m\u001b[0;34m\u001b[0m\u001b[0;34m\u001b[0m\u001b[0m\n\u001b[0m\u001b[1;32m     20\u001b[0m \u001b[0;34m\u001b[0m\u001b[0m\n\u001b[1;32m     21\u001b[0m         nn.utils.clip_grad_norm_(\n",
      "\u001b[0;32m~/miniconda3/envs/protein/lib/python3.8/site-packages/torch/_tensor.py\u001b[0m in \u001b[0;36mbackward\u001b[0;34m(self, gradient, retain_graph, create_graph, inputs)\u001b[0m\n\u001b[1;32m    305\u001b[0m                 \u001b[0mcreate_graph\u001b[0m\u001b[0;34m=\u001b[0m\u001b[0mcreate_graph\u001b[0m\u001b[0;34m,\u001b[0m\u001b[0;34m\u001b[0m\u001b[0;34m\u001b[0m\u001b[0m\n\u001b[1;32m    306\u001b[0m                 inputs=inputs)\n\u001b[0;32m--> 307\u001b[0;31m         \u001b[0mtorch\u001b[0m\u001b[0;34m.\u001b[0m\u001b[0mautograd\u001b[0m\u001b[0;34m.\u001b[0m\u001b[0mbackward\u001b[0m\u001b[0;34m(\u001b[0m\u001b[0mself\u001b[0m\u001b[0;34m,\u001b[0m \u001b[0mgradient\u001b[0m\u001b[0;34m,\u001b[0m \u001b[0mretain_graph\u001b[0m\u001b[0;34m,\u001b[0m \u001b[0mcreate_graph\u001b[0m\u001b[0;34m,\u001b[0m \u001b[0minputs\u001b[0m\u001b[0;34m=\u001b[0m\u001b[0minputs\u001b[0m\u001b[0;34m)\u001b[0m\u001b[0;34m\u001b[0m\u001b[0;34m\u001b[0m\u001b[0m\n\u001b[0m\u001b[1;32m    308\u001b[0m \u001b[0;34m\u001b[0m\u001b[0m\n\u001b[1;32m    309\u001b[0m     \u001b[0;32mdef\u001b[0m \u001b[0mregister_hook\u001b[0m\u001b[0;34m(\u001b[0m\u001b[0mself\u001b[0m\u001b[0;34m,\u001b[0m \u001b[0mhook\u001b[0m\u001b[0;34m)\u001b[0m\u001b[0;34m:\u001b[0m\u001b[0;34m\u001b[0m\u001b[0;34m\u001b[0m\u001b[0m\n",
      "\u001b[0;32m~/miniconda3/envs/protein/lib/python3.8/site-packages/torch/autograd/__init__.py\u001b[0m in \u001b[0;36mbackward\u001b[0;34m(tensors, grad_tensors, retain_graph, create_graph, grad_variables, inputs)\u001b[0m\n\u001b[1;32m    152\u001b[0m         \u001b[0mretain_graph\u001b[0m \u001b[0;34m=\u001b[0m \u001b[0mcreate_graph\u001b[0m\u001b[0;34m\u001b[0m\u001b[0;34m\u001b[0m\u001b[0m\n\u001b[1;32m    153\u001b[0m \u001b[0;34m\u001b[0m\u001b[0m\n\u001b[0;32m--> 154\u001b[0;31m     Variable._execution_engine.run_backward(\n\u001b[0m\u001b[1;32m    155\u001b[0m         \u001b[0mtensors\u001b[0m\u001b[0;34m,\u001b[0m \u001b[0mgrad_tensors_\u001b[0m\u001b[0;34m,\u001b[0m \u001b[0mretain_graph\u001b[0m\u001b[0;34m,\u001b[0m \u001b[0mcreate_graph\u001b[0m\u001b[0;34m,\u001b[0m \u001b[0minputs\u001b[0m\u001b[0;34m,\u001b[0m\u001b[0;34m\u001b[0m\u001b[0;34m\u001b[0m\u001b[0m\n\u001b[1;32m    156\u001b[0m         allow_unreachable=True, accumulate_grad=True)  # allow_unreachable flag\n",
      "\u001b[0;31mKeyboardInterrupt\u001b[0m: "
     ]
    }
   ],
   "source": [
    "global_step = 0\n",
    "\n",
    "for epoch in range(EPOCHS):\n",
    "    print(f\"Starting epoch: {epoch+1}/{EPOCHS}\")\n",
    "    epoch_step = 0\n",
    "    n_sequences_epoch = 0\n",
    "    total_loss_epoch = 0\n",
    "\n",
    "    for i, batch in enumerate(train_dataloader):\n",
    "        seq, labels = tuple(t.to(device) for t in batch)\n",
    "\n",
    "        outputs = model(seq)\n",
    "\n",
    "        loss = F.cross_entropy(outputs, labels)\n",
    "        total_loss_epoch += loss.item()\n",
    "        global_step += 1\n",
    "        epoch_step += 1\n",
    "\n",
    "        loss.backward()\n",
    "\n",
    "        nn.utils.clip_grad_norm_(\n",
    "            model.parameters(), 1.0\n",
    "        )\n",
    "\n",
    "        optimizer.step()\n",
    "\n",
    "        optimizer.zero_grad()\n",
    "\n",
    "        n_sequences_epoch += seq.size(0)\n",
    "\n",
    "        if i % 1000 == 0:\n",
    "            print(f\"Epoch: {epoch+1} Last loss: {loss.item()}\")\n",
    "\n",
    "    print(f\"Epoch: {epoch+1} Epoch loss: {total_loss_epoch/  epoch_step}\")\n",
    "        "
   ]
  }
 ],
 "metadata": {
  "interpreter": {
   "hash": "2d0a2128d1c39f3b867a8b3a7f053df431bff3070bf96e1e8b0a51f00fce5a8d"
  },
  "kernelspec": {
   "display_name": "Python 3.8.12 64-bit ('protein': conda)",
   "language": "python",
   "name": "python3"
  },
  "language_info": {
   "codemirror_mode": {
    "name": "ipython",
    "version": 3
   },
   "file_extension": ".py",
   "mimetype": "text/x-python",
   "name": "python",
   "nbconvert_exporter": "python",
   "pygments_lexer": "ipython3",
   "version": "3.8.12"
  },
  "orig_nbformat": 4
 },
 "nbformat": 4,
 "nbformat_minor": 2
}
